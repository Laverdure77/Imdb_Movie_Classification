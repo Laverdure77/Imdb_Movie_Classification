{
 "cells": [
  {
   "cell_type": "code",
   "execution_count": 1,
   "metadata": {},
   "outputs": [],
   "source": [
    "import pandas as pd\n",
    "import numpy as np\n"
   ]
  },
  {
   "cell_type": "code",
   "execution_count": 2,
   "metadata": {},
   "outputs": [
    {
     "name": "stderr",
     "output_type": "stream",
     "text": [
      "C:\\Users\\meule\\AppData\\Local\\Temp\\ipykernel_17140\\3608718971.py:1: DtypeWarning: Columns (10) have mixed types. Specify dtype option on import or set low_memory=False.\n",
      "  df = pd.read_csv(\"datas/movies_metadata.csv\")\n"
     ]
    }
   ],
   "source": [
    "df = pd.read_csv(\"datas/movies_metadata.csv\")"
   ]
  },
  {
   "cell_type": "code",
   "execution_count": 3,
   "metadata": {},
   "outputs": [],
   "source": [
    "# Extract gender names from gender columns\n",
    "import ast\n",
    "\n",
    "# Convert string values to list of dictionaries\n",
    "df.genres = df.genres.apply(lambda x: ast.literal_eval(x) if isinstance(x, str) else x)\n",
    "\n",
    "# Extract genre names\n",
    "df.genres = df.genres.apply(lambda x: [genre['name'] for genre in x])"
   ]
  },
  {
   "cell_type": "code",
   "execution_count": 4,
   "metadata": {},
   "outputs": [],
   "source": [
    "df = df[['title', 'genres','overview','tagline']]"
   ]
  },
  {
   "cell_type": "code",
   "execution_count": 5,
   "metadata": {},
   "outputs": [
    {
     "data": {
      "text/html": [
       "<div>\n",
       "<style scoped>\n",
       "    .dataframe tbody tr th:only-of-type {\n",
       "        vertical-align: middle;\n",
       "    }\n",
       "\n",
       "    .dataframe tbody tr th {\n",
       "        vertical-align: top;\n",
       "    }\n",
       "\n",
       "    .dataframe thead th {\n",
       "        text-align: right;\n",
       "    }\n",
       "</style>\n",
       "<table border=\"1\" class=\"dataframe\">\n",
       "  <thead>\n",
       "    <tr style=\"text-align: right;\">\n",
       "      <th></th>\n",
       "      <th>title</th>\n",
       "      <th>genres</th>\n",
       "      <th>overview</th>\n",
       "      <th>tagline</th>\n",
       "    </tr>\n",
       "  </thead>\n",
       "  <tbody>\n",
       "    <tr>\n",
       "      <th>0</th>\n",
       "      <td>Toy Story</td>\n",
       "      <td>[Animation, Comedy, Family]</td>\n",
       "      <td>Led by Woody, Andy's toys live happily in his ...</td>\n",
       "      <td>NaN</td>\n",
       "    </tr>\n",
       "    <tr>\n",
       "      <th>1</th>\n",
       "      <td>Jumanji</td>\n",
       "      <td>[Adventure, Fantasy, Family]</td>\n",
       "      <td>When siblings Judy and Peter discover an encha...</td>\n",
       "      <td>Roll the dice and unleash the excitement!</td>\n",
       "    </tr>\n",
       "    <tr>\n",
       "      <th>2</th>\n",
       "      <td>Grumpier Old Men</td>\n",
       "      <td>[Romance, Comedy]</td>\n",
       "      <td>A family wedding reignites the ancient feud be...</td>\n",
       "      <td>Still Yelling. Still Fighting. Still Ready for...</td>\n",
       "    </tr>\n",
       "    <tr>\n",
       "      <th>3</th>\n",
       "      <td>Waiting to Exhale</td>\n",
       "      <td>[Comedy, Drama, Romance]</td>\n",
       "      <td>Cheated on, mistreated and stepped on, the wom...</td>\n",
       "      <td>Friends are the people who let you be yourself...</td>\n",
       "    </tr>\n",
       "    <tr>\n",
       "      <th>4</th>\n",
       "      <td>Father of the Bride Part II</td>\n",
       "      <td>[Comedy]</td>\n",
       "      <td>Just when George Banks has recovered from his ...</td>\n",
       "      <td>Just When His World Is Back To Normal... He's ...</td>\n",
       "    </tr>\n",
       "  </tbody>\n",
       "</table>\n",
       "</div>"
      ],
      "text/plain": [
       "                         title                        genres   \n",
       "0                    Toy Story   [Animation, Comedy, Family]  \\\n",
       "1                      Jumanji  [Adventure, Fantasy, Family]   \n",
       "2             Grumpier Old Men             [Romance, Comedy]   \n",
       "3            Waiting to Exhale      [Comedy, Drama, Romance]   \n",
       "4  Father of the Bride Part II                      [Comedy]   \n",
       "\n",
       "                                            overview   \n",
       "0  Led by Woody, Andy's toys live happily in his ...  \\\n",
       "1  When siblings Judy and Peter discover an encha...   \n",
       "2  A family wedding reignites the ancient feud be...   \n",
       "3  Cheated on, mistreated and stepped on, the wom...   \n",
       "4  Just when George Banks has recovered from his ...   \n",
       "\n",
       "                                             tagline  \n",
       "0                                                NaN  \n",
       "1          Roll the dice and unleash the excitement!  \n",
       "2  Still Yelling. Still Fighting. Still Ready for...  \n",
       "3  Friends are the people who let you be yourself...  \n",
       "4  Just When His World Is Back To Normal... He's ...  "
      ]
     },
     "execution_count": 5,
     "metadata": {},
     "output_type": "execute_result"
    }
   ],
   "source": [
    "df.head() "
   ]
  },
  {
   "cell_type": "code",
   "execution_count": 6,
   "metadata": {},
   "outputs": [
    {
     "data": {
      "text/html": [
       "<div>\n",
       "<style scoped>\n",
       "    .dataframe tbody tr th:only-of-type {\n",
       "        vertical-align: middle;\n",
       "    }\n",
       "\n",
       "    .dataframe tbody tr th {\n",
       "        vertical-align: top;\n",
       "    }\n",
       "\n",
       "    .dataframe thead th {\n",
       "        text-align: right;\n",
       "    }\n",
       "</style>\n",
       "<table border=\"1\" class=\"dataframe\">\n",
       "  <thead>\n",
       "    <tr style=\"text-align: right;\">\n",
       "      <th></th>\n",
       "      <th>title</th>\n",
       "      <th>genres</th>\n",
       "      <th>overview</th>\n",
       "      <th>tagline</th>\n",
       "    </tr>\n",
       "  </thead>\n",
       "  <tbody>\n",
       "    <tr>\n",
       "      <th>45459</th>\n",
       "      <td>Caged Heat 3000</td>\n",
       "      <td>[Science Fiction]</td>\n",
       "      <td>It's the year 3000 AD. The world's most danger...</td>\n",
       "      <td>NaN</td>\n",
       "    </tr>\n",
       "    <tr>\n",
       "      <th>45460</th>\n",
       "      <td>Robin Hood</td>\n",
       "      <td>[Drama, Action, Romance]</td>\n",
       "      <td>Yet another version of the classic epic, with ...</td>\n",
       "      <td>NaN</td>\n",
       "    </tr>\n",
       "    <tr>\n",
       "      <th>45461</th>\n",
       "      <td>Subdue</td>\n",
       "      <td>[Drama, Family]</td>\n",
       "      <td>Rising and falling between a man and woman.</td>\n",
       "      <td>Rising and falling between a man and woman</td>\n",
       "    </tr>\n",
       "    <tr>\n",
       "      <th>45462</th>\n",
       "      <td>Century of Birthing</td>\n",
       "      <td>[Drama]</td>\n",
       "      <td>An artist struggles to finish his work while a...</td>\n",
       "      <td>NaN</td>\n",
       "    </tr>\n",
       "    <tr>\n",
       "      <th>45463</th>\n",
       "      <td>Betrayal</td>\n",
       "      <td>[Action, Drama, Thriller]</td>\n",
       "      <td>When one of her hits goes wrong, a professiona...</td>\n",
       "      <td>A deadly game of wits.</td>\n",
       "    </tr>\n",
       "  </tbody>\n",
       "</table>\n",
       "</div>"
      ],
      "text/plain": [
       "                     title                     genres   \n",
       "45459      Caged Heat 3000          [Science Fiction]  \\\n",
       "45460           Robin Hood   [Drama, Action, Romance]   \n",
       "45461               Subdue            [Drama, Family]   \n",
       "45462  Century of Birthing                    [Drama]   \n",
       "45463             Betrayal  [Action, Drama, Thriller]   \n",
       "\n",
       "                                                overview   \n",
       "45459  It's the year 3000 AD. The world's most danger...  \\\n",
       "45460  Yet another version of the classic epic, with ...   \n",
       "45461        Rising and falling between a man and woman.   \n",
       "45462  An artist struggles to finish his work while a...   \n",
       "45463  When one of her hits goes wrong, a professiona...   \n",
       "\n",
       "                                          tagline  \n",
       "45459                                         NaN  \n",
       "45460                                         NaN  \n",
       "45461  Rising and falling between a man and woman  \n",
       "45462                                         NaN  \n",
       "45463                      A deadly game of wits.  "
      ]
     },
     "execution_count": 6,
     "metadata": {},
     "output_type": "execute_result"
    }
   ],
   "source": [
    "# Remove rows where genres list is empty\n",
    "\n",
    "df = df[df[\"genres\"].map(len)>0]\n",
    "df.info\n",
    "df.tail()"
   ]
  },
  {
   "cell_type": "code",
   "execution_count": 7,
   "metadata": {},
   "outputs": [
    {
     "name": "stderr",
     "output_type": "stream",
     "text": [
      "[nltk_data] Downloading package punkt to\n",
      "[nltk_data]     C:\\Users\\meule\\AppData\\Roaming\\nltk_data...\n",
      "[nltk_data]   Package punkt is already up-to-date!\n",
      "[nltk_data] Downloading package stopwords to\n",
      "[nltk_data]     C:\\Users\\meule\\AppData\\Roaming\\nltk_data...\n",
      "[nltk_data]   Package stopwords is already up-to-date!\n"
     ]
    },
    {
     "data": {
      "text/html": [
       "<div>\n",
       "<style scoped>\n",
       "    .dataframe tbody tr th:only-of-type {\n",
       "        vertical-align: middle;\n",
       "    }\n",
       "\n",
       "    .dataframe tbody tr th {\n",
       "        vertical-align: top;\n",
       "    }\n",
       "\n",
       "    .dataframe thead th {\n",
       "        text-align: right;\n",
       "    }\n",
       "</style>\n",
       "<table border=\"1\" class=\"dataframe\">\n",
       "  <thead>\n",
       "    <tr style=\"text-align: right;\">\n",
       "      <th></th>\n",
       "      <th>title</th>\n",
       "      <th>genres</th>\n",
       "      <th>overview</th>\n",
       "      <th>tagline</th>\n",
       "      <th>clean_overview</th>\n",
       "    </tr>\n",
       "  </thead>\n",
       "  <tbody>\n",
       "    <tr>\n",
       "      <th>0</th>\n",
       "      <td>Toy Story</td>\n",
       "      <td>[Animation, Comedy, Family]</td>\n",
       "      <td>Led by Woody, Andy's toys live happily in his ...</td>\n",
       "      <td>NaN</td>\n",
       "      <td>led woodi andi toy live happili room andi birt...</td>\n",
       "    </tr>\n",
       "    <tr>\n",
       "      <th>1</th>\n",
       "      <td>Jumanji</td>\n",
       "      <td>[Adventure, Fantasy, Family]</td>\n",
       "      <td>When siblings Judy and Peter discover an encha...</td>\n",
       "      <td>Roll the dice and unleash the excitement!</td>\n",
       "      <td>sibl judi peter discov enchant board game open...</td>\n",
       "    </tr>\n",
       "    <tr>\n",
       "      <th>2</th>\n",
       "      <td>Grumpier Old Men</td>\n",
       "      <td>[Romance, Comedy]</td>\n",
       "      <td>A family wedding reignites the ancient feud be...</td>\n",
       "      <td>Still Yelling. Still Fighting. Still Ready for...</td>\n",
       "      <td>famili wed reignit ancient feud next-door neig...</td>\n",
       "    </tr>\n",
       "    <tr>\n",
       "      <th>3</th>\n",
       "      <td>Waiting to Exhale</td>\n",
       "      <td>[Comedy, Drama, Romance]</td>\n",
       "      <td>Cheated on, mistreated and stepped on, the wom...</td>\n",
       "      <td>Friends are the people who let you be yourself...</td>\n",
       "      <td>cheat mistreat step women hold breath wait elu...</td>\n",
       "    </tr>\n",
       "    <tr>\n",
       "      <th>4</th>\n",
       "      <td>Father of the Bride Part II</td>\n",
       "      <td>[Comedy]</td>\n",
       "      <td>Just when George Banks has recovered from his ...</td>\n",
       "      <td>Just When His World Is Back To Normal... He's ...</td>\n",
       "      <td>georg bank recov daughter wed receiv news preg...</td>\n",
       "    </tr>\n",
       "  </tbody>\n",
       "</table>\n",
       "</div>"
      ],
      "text/plain": [
       "                         title                        genres   \n",
       "0                    Toy Story   [Animation, Comedy, Family]  \\\n",
       "1                      Jumanji  [Adventure, Fantasy, Family]   \n",
       "2             Grumpier Old Men             [Romance, Comedy]   \n",
       "3            Waiting to Exhale      [Comedy, Drama, Romance]   \n",
       "4  Father of the Bride Part II                      [Comedy]   \n",
       "\n",
       "                                            overview   \n",
       "0  Led by Woody, Andy's toys live happily in his ...  \\\n",
       "1  When siblings Judy and Peter discover an encha...   \n",
       "2  A family wedding reignites the ancient feud be...   \n",
       "3  Cheated on, mistreated and stepped on, the wom...   \n",
       "4  Just when George Banks has recovered from his ...   \n",
       "\n",
       "                                             tagline   \n",
       "0                                                NaN  \\\n",
       "1          Roll the dice and unleash the excitement!   \n",
       "2  Still Yelling. Still Fighting. Still Ready for...   \n",
       "3  Friends are the people who let you be yourself...   \n",
       "4  Just When His World Is Back To Normal... He's ...   \n",
       "\n",
       "                                      clean_overview  \n",
       "0  led woodi andi toy live happili room andi birt...  \n",
       "1  sibl judi peter discov enchant board game open...  \n",
       "2  famili wed reignit ancient feud next-door neig...  \n",
       "3  cheat mistreat step women hold breath wait elu...  \n",
       "4  georg bank recov daughter wed receiv news preg...  "
      ]
     },
     "execution_count": 7,
     "metadata": {},
     "output_type": "execute_result"
    }
   ],
   "source": [
    "# Clean Overview\n",
    "import nltk\n",
    "from nltk.corpus import stopwords\n",
    "from nltk.stem import PorterStemmer\n",
    "import re\n",
    "nltk.download('punkt')\n",
    "nltk.download('stopwords')\n",
    "from nltk import word_tokenize\n",
    "\n",
    "# Define stopwords and stemmer\n",
    "stop_words = set(stopwords.words('english'))\n",
    "ps = PorterStemmer()\n",
    "\n",
    "# Clean text function\n",
    "def clean_text(text):\n",
    "    if type(text) == float:                     # change type to text for some plot in dataset\n",
    "        text = str(text)\n",
    "    text = text.lower()                         # Lowercase\n",
    "    text = re.sub(r\"(\\b\\w+)'s\\b\", r\"\\1\", text)  # remove 's suffix\n",
    "    text = re.sub(\"[^a-zA-Z'-]\", \" \", text)     # remove non-letter characters\n",
    "    words = word_tokenize(text)\n",
    "    words = [ps.stem(w) for w in words if w not in stop_words] # stem words\n",
    "    return \" \".join(words)\n",
    "\n",
    "# Clean the overview column\n",
    "df[\"clean_overview\"] = df['overview'].apply(clean_text)\n",
    "\n",
    "df.head()"
   ]
  },
  {
   "cell_type": "code",
   "execution_count": 8,
   "metadata": {},
   "outputs": [
    {
     "data": {
      "text/html": [
       "<div>\n",
       "<style scoped>\n",
       "    .dataframe tbody tr th:only-of-type {\n",
       "        vertical-align: middle;\n",
       "    }\n",
       "\n",
       "    .dataframe tbody tr th {\n",
       "        vertical-align: top;\n",
       "    }\n",
       "\n",
       "    .dataframe thead th {\n",
       "        text-align: right;\n",
       "    }\n",
       "</style>\n",
       "<table border=\"1\" class=\"dataframe\">\n",
       "  <thead>\n",
       "    <tr style=\"text-align: right;\">\n",
       "      <th></th>\n",
       "      <th>title</th>\n",
       "      <th>genres</th>\n",
       "      <th>overview</th>\n",
       "      <th>tagline</th>\n",
       "      <th>clean_overview</th>\n",
       "    </tr>\n",
       "  </thead>\n",
       "  <tbody>\n",
       "    <tr>\n",
       "      <th>12825</th>\n",
       "      <td>Felon</td>\n",
       "      <td>[Action, Crime, Drama]</td>\n",
       "      <td>A family man convicted of killing an intruder ...</td>\n",
       "      <td>No rule. No hope. No way out.</td>\n",
       "      <td>famili man convict kill intrud must cope life ...</td>\n",
       "    </tr>\n",
       "  </tbody>\n",
       "</table>\n",
       "</div>"
      ],
      "text/plain": [
       "       title                  genres   \n",
       "12825  Felon  [Action, Crime, Drama]  \\\n",
       "\n",
       "                                                overview   \n",
       "12825  A family man convicted of killing an intruder ...  \\\n",
       "\n",
       "                             tagline   \n",
       "12825  No rule. No hope. No way out.  \\\n",
       "\n",
       "                                          clean_overview  \n",
       "12825  famili man convict kill intrud must cope life ...  "
      ]
     },
     "execution_count": 8,
     "metadata": {},
     "output_type": "execute_result"
    }
   ],
   "source": [
    "test_value = df.sample(1)\n",
    "test_value"
   ]
  },
  {
   "cell_type": "code",
   "execution_count": 9,
   "metadata": {},
   "outputs": [
    {
     "data": {
      "text/plain": [
       "['Carousel Productions',\n",
       " 'Vision View Entertainment',\n",
       " 'Telescene Film Group Productions',\n",
       " 'Aniplex',\n",
       " 'GoHands',\n",
       " 'BROSTA TV',\n",
       " 'Mardock Scramble Production Committee',\n",
       " 'Sentai Filmworks',\n",
       " 'Odyssey Media',\n",
       " 'Pulser Productions',\n",
       " 'Rogue State',\n",
       " 'The Cartel']"
      ]
     },
     "execution_count": 9,
     "metadata": {},
     "output_type": "execute_result"
    }
   ],
   "source": [
    "# List the genres to drop, too many in dataset\n",
    "genres_counts = df.explode('genres')['genres'].value_counts()\n",
    "genres_to_drop = genres_counts.loc[lambda g : g < 100].index.tolist()\n",
    "genres_to_drop"
   ]
  },
  {
   "cell_type": "code",
   "execution_count": 10,
   "metadata": {},
   "outputs": [],
   "source": [
    "mask = df['genres'].apply(lambda x: not any(item in genres_to_drop for item in x))"
   ]
  },
  {
   "cell_type": "code",
   "execution_count": 11,
   "metadata": {},
   "outputs": [
    {
     "data": {
      "text/plain": [
       "(43021, 5)"
      ]
     },
     "execution_count": 11,
     "metadata": {},
     "output_type": "execute_result"
    }
   ],
   "source": [
    "df = df[mask]\n",
    "df.head()\n",
    "df.shape"
   ]
  },
  {
   "cell_type": "code",
   "execution_count": 12,
   "metadata": {},
   "outputs": [],
   "source": [
    "# Select 100 rows from df to test the model with\n",
    "df = df.sample(n=200)"
   ]
  },
  {
   "cell_type": "code",
   "execution_count": 13,
   "metadata": {},
   "outputs": [],
   "source": [
    "# Define target and features\n",
    "X = df.clean_overview.tolist()\n",
    "\n",
    "from sklearn.preprocessing import MultiLabelBinarizer\n",
    "mlb = MultiLabelBinarizer()\n",
    "y = mlb.fit_transform(df.genres)\n",
    "mapping = {i: name for i, name in enumerate(mlb.classes_)}"
   ]
  },
  {
   "cell_type": "code",
   "execution_count": 14,
   "metadata": {},
   "outputs": [
    {
     "data": {
      "text/plain": [
       "{0: 'Action',\n",
       " 1: 'Adventure',\n",
       " 2: 'Animation',\n",
       " 3: 'Comedy',\n",
       " 4: 'Crime',\n",
       " 5: 'Documentary',\n",
       " 6: 'Drama',\n",
       " 7: 'Family',\n",
       " 8: 'Fantasy',\n",
       " 9: 'Foreign',\n",
       " 10: 'History',\n",
       " 11: 'Horror',\n",
       " 12: 'Music',\n",
       " 13: 'Mystery',\n",
       " 14: 'Romance',\n",
       " 15: 'Science Fiction',\n",
       " 16: 'TV Movie',\n",
       " 17: 'Thriller',\n",
       " 18: 'War',\n",
       " 19: 'Western'}"
      ]
     },
     "execution_count": 14,
     "metadata": {},
     "output_type": "execute_result"
    }
   ],
   "source": [
    "mapping"
   ]
  },
  {
   "cell_type": "code",
   "execution_count": 15,
   "metadata": {},
   "outputs": [],
   "source": [
    "from sklearn.model_selection import train_test_split\n",
    "# Split Train and Validation data\n",
    "X_train_val, X_test, y_train_val, y_test = train_test_split(X, y, test_size=0.2, shuffle=True, random_state=0)\n",
    "\n",
    "# Keep some data for inference (testing)\n",
    "X_train, X_val, y_train, y_val = train_test_split(X_train_val, y_train_val, test_size=0.3, random_state=0)"
   ]
  },
  {
   "cell_type": "code",
   "execution_count": 16,
   "metadata": {},
   "outputs": [],
   "source": [
    "from sklearn.utils import class_weight\n",
    "class_weights = class_weight.compute_sample_weight(class_weight='balanced', y=y_train)\n",
    "# convert the class_weights to a dictionary\n",
    "class_weights_dict = dict(enumerate(class_weights))"
   ]
  },
  {
   "cell_type": "code",
   "execution_count": 17,
   "metadata": {},
   "outputs": [
    {
     "data": {
      "text/plain": [
       "{0: 0.00012901622126967153,\n",
       " 1: 0.004722657412532593,\n",
       " 2: 0.002760947135170971,\n",
       " 3: 0.0009402853927945526,\n",
       " 4: 1.1010367597125907e-05,\n",
       " 5: 1.1010367597125907e-05,\n",
       " 6: 0.07211517795761799,\n",
       " 7: 3.1526417974182855e-05,\n",
       " 8: 0.002729570221578396,\n",
       " 9: 0.00804641981789176,\n",
       " 10: 0.017128800670920513,\n",
       " 11: 0.00023562186657849441,\n",
       " 12: 0.00012901622126967153,\n",
       " 13: 0.0010158083586829865,\n",
       " 14: 0.006377532744551247,\n",
       " 15: 0.01255079142641447,\n",
       " 16: 0.005251945343829059,\n",
       " 17: 2.6358152732513544e-05,\n",
       " 18: 7.707257317988138e-05,\n",
       " 19: 0.0008429048082688615,\n",
       " 20: 0.04263889648752727,\n",
       " 21: 0.00013764813093645963,\n",
       " 22: 3.1526417974182855e-05,\n",
       " 23: 1.1010367597125907e-05,\n",
       " 24: 0.0025876404990910953,\n",
       " 25: 1.1010367597125907e-05,\n",
       " 26: 0.09823082957902501,\n",
       " 27: 0.004978859442145575,\n",
       " 28: 5.389285192277417e-05,\n",
       " 29: 0.00033662485068103185,\n",
       " 30: 1.1010367597125907e-05,\n",
       " 31: 0.00023265698327783058,\n",
       " 32: 0.00022068492581928006,\n",
       " 33: 7.707257317988138e-05,\n",
       " 34: 7.707257317988135e-05,\n",
       " 35: 0.00039946765053363356,\n",
       " 36: 0.22046640118471778,\n",
       " 37: 0.0009031135488877009,\n",
       " 38: 7.707257317988135e-05,\n",
       " 39: 1.1010367597125907e-05,\n",
       " 40: 2.6358152732513544e-05,\n",
       " 41: 0.0001543135195578424,\n",
       " 42: 0.0009402853927945526,\n",
       " 43: 0.001008180260870599,\n",
       " 44: 0.0001209177803313596,\n",
       " 45: 0.00011230574949068423,\n",
       " 46: 0.00023265698327783058,\n",
       " 47: 0.00022068492581928006,\n",
       " 48: 0.0032647800689467096,\n",
       " 49: 5.389285192277417e-05,\n",
       " 50: 0.0008429048082688614,\n",
       " 51: 3.1526417974182855e-05,\n",
       " 52: 0.00019451649421589108,\n",
       " 53: 0.00023353569166535484,\n",
       " 54: 5.389285192277417e-05,\n",
       " 55: 1.1010367597125907e-05,\n",
       " 56: 7.707257317988138e-05,\n",
       " 57: 0.006377532744551249,\n",
       " 58: 0.002086108841675642,\n",
       " 59: 0.009965138943072287,\n",
       " 60: 0.0001209177803313596,\n",
       " 61: 7.707257317988138e-05,\n",
       " 62: 0.00023562186657849441,\n",
       " 63: 2.6358152732513544e-05,\n",
       " 64: 1.1010367597125907e-05,\n",
       " 65: 0.0001209177803313596,\n",
       " 66: 1.1010367597125907e-05,\n",
       " 67: 0.0009521070506356772,\n",
       " 68: 2.6358152732513544e-05,\n",
       " 69: 0.008548607721419755,\n",
       " 70: 0.0010210280885068097,\n",
       " 71: 0.020464848787641238,\n",
       " 72: 0.009965138943072287,\n",
       " 73: 0.0033698681288606533,\n",
       " 74: 0.0001209177803313596,\n",
       " 75: 0.0007014827533546662,\n",
       " 76: 0.11749177655530445,\n",
       " 77: 0.001138794707623065,\n",
       " 78: 1.1010367597125907e-05,\n",
       " 79: 0.00013432648468493608,\n",
       " 80: 1.1010367597125907e-05,\n",
       " 81: 3.1526417974182855e-05,\n",
       " 82: 7.707257317988138e-05,\n",
       " 83: 0.0025876404990910953,\n",
       " 84: 0.0001543135195578424,\n",
       " 85: 0.0017441237856632417,\n",
       " 86: 0.0006746653446475134,\n",
       " 87: 0.0005590702921685767,\n",
       " 88: 5.706680721909051e-05,\n",
       " 89: 3.1526417974182855e-05,\n",
       " 90: 1.1010367597125907e-05,\n",
       " 91: 0.0002814404489300429,\n",
       " 92: 7.707257317988135e-05,\n",
       " 93: 0.00023562186657849441,\n",
       " 94: 0.00821976680844774,\n",
       " 95: 1.1010367597125907e-05,\n",
       " 96: 0.00013432648468493608,\n",
       " 97: 0.0009563013452168802,\n",
       " 98: 7.707257317988138e-05,\n",
       " 99: 0.10654759206191526,\n",
       " 100: 4.771159292087894e-05,\n",
       " 101: 0.0005964752340579916,\n",
       " 102: 5.389285192277417e-05,\n",
       " 103: 3.1526417974182855e-05,\n",
       " 104: 0.0005640644684757897,\n",
       " 105: 1.1010367597125907e-05,\n",
       " 106: 0.0008464244623195171,\n",
       " 107: 0.002086108841675642,\n",
       " 108: 0.002760947135170971,\n",
       " 109: 0.0072769978555074985,\n",
       " 110: 1.1010367597125907e-05,\n",
       " 111: 0.0028745867722576326}"
      ]
     },
     "execution_count": 17,
     "metadata": {},
     "output_type": "execute_result"
    }
   ],
   "source": [
    "class_weights_dict"
   ]
  },
  {
   "cell_type": "code",
   "execution_count": 18,
   "metadata": {},
   "outputs": [
    {
     "name": "stderr",
     "output_type": "stream",
     "text": [
      "c:\\Users\\meule\\Desktop\\imdb\\venv\\Lib\\site-packages\\tqdm\\auto.py:21: TqdmWarning: IProgress not found. Please update jupyter and ipywidgets. See https://ipywidgets.readthedocs.io/en/stable/user_install.html\n",
      "  from .autonotebook import tqdm as notebook_tqdm\n"
     ]
    }
   ],
   "source": [
    "import tensorflow as tf\n",
    "from transformers import DistilBertTokenizer\n",
    "tokenizer = DistilBertTokenizer.from_pretrained('distilbert-base-uncased')"
   ]
  },
  {
   "cell_type": "code",
   "execution_count": 19,
   "metadata": {},
   "outputs": [],
   "source": [
    "train_encodings = tokenizer(X_train, max_length=200, truncation=True, padding=True)\n",
    "val_encodings = tokenizer(X_val, max_length=200, truncation=True, padding=True)\n",
    "test_encodings = tokenizer(X_test, max_length=200, truncation=True, padding=True)"
   ]
  },
  {
   "cell_type": "code",
   "execution_count": 20,
   "metadata": {},
   "outputs": [],
   "source": [
    "train_dataset = tf.data.Dataset.from_tensor_slices((\n",
    "    dict(train_encodings),\n",
    "    y_train\n",
    "))\n",
    "\n",
    "val_dataset = tf.data.Dataset.from_tensor_slices((\n",
    "    dict(val_encodings),\n",
    "    y_val\n",
    "))\n",
    "\n",
    "test_dataset = tf.data.Dataset.from_tensor_slices((\n",
    "    dict(test_encodings),\n",
    "    y_test\n",
    "))"
   ]
  },
  {
   "cell_type": "code",
   "execution_count": 21,
   "metadata": {},
   "outputs": [
    {
     "name": "stderr",
     "output_type": "stream",
     "text": [
      "Some layers from the model checkpoint at distilbert-base-uncased were not used when initializing TFDistilBertForSequenceClassification: ['vocab_transform', 'activation_13', 'vocab_projector', 'vocab_layer_norm']\n",
      "- This IS expected if you are initializing TFDistilBertForSequenceClassification from the checkpoint of a model trained on another task or with another architecture (e.g. initializing a BertForSequenceClassification model from a BertForPreTraining model).\n",
      "- This IS NOT expected if you are initializing TFDistilBertForSequenceClassification from the checkpoint of a model that you expect to be exactly identical (initializing a BertForSequenceClassification model from a BertForSequenceClassification model).\n",
      "Some layers of TFDistilBertForSequenceClassification were not initialized from the model checkpoint at distilbert-base-uncased and are newly initialized: ['pre_classifier', 'classifier', 'dropout_19']\n",
      "You should probably TRAIN this model on a down-stream task to be able to use it for predictions and inference.\n"
     ]
    }
   ],
   "source": [
    "from transformers import TFDistilBertForSequenceClassification\n",
    "\n",
    "model = TFDistilBertForSequenceClassification.from_pretrained('distilbert-base-uncased', num_labels=len(mapping))"
   ]
  },
  {
   "cell_type": "markdown",
   "metadata": {},
   "source": []
  },
  {
   "cell_type": "code",
   "execution_count": 22,
   "metadata": {},
   "outputs": [
    {
     "name": "stdout",
     "output_type": "stream",
     "text": [
      "Model: \"tf_distil_bert_for_sequence_classification\"\n",
      "_________________________________________________________________\n",
      " Layer (type)                Output Shape              Param #   \n",
      "=================================================================\n",
      " distilbert (TFDistilBertMai  multiple                 66362880  \n",
      " nLayer)                                                         \n",
      "                                                                 \n",
      " pre_classifier (Dense)      multiple                  590592    \n",
      "                                                                 \n",
      " classifier (Dense)          multiple                  15380     \n",
      "                                                                 \n",
      " dropout_19 (Dropout)        multiple                  0         \n",
      "                                                                 \n",
      "=================================================================\n",
      "Total params: 66,968,852\n",
      "Trainable params: 66,968,852\n",
      "Non-trainable params: 0\n",
      "_________________________________________________________________\n"
     ]
    }
   ],
   "source": [
    "OPTIMIZER =  tf.keras.optimizers.Adam(learning_rate=3e-5)\n",
    "LOSS = tf.keras.losses.BinaryCrossentropy(from_logits=True)\n",
    "METRICS = ['accuracy']\n",
    "\n",
    "model.compile(optimizer=OPTIMIZER, loss=LOSS, metrics=METRICS)\n",
    "model.summary()"
   ]
  },
  {
   "cell_type": "code",
   "execution_count": 23,
   "metadata": {},
   "outputs": [],
   "source": [
    "BATCH_SIZE = 8\n",
    "EPOCHS = 5"
   ]
  },
  {
   "cell_type": "code",
   "execution_count": 24,
   "metadata": {},
   "outputs": [
    {
     "name": "stdout",
     "output_type": "stream",
     "text": [
      "Epoch 1/5\n",
      "14/14 [==============================] - 64s 3s/step - loss: 0.0137 - accuracy: 0.2232 - val_loss: 0.5989 - val_accuracy: 0.3125\n",
      "Epoch 2/5\n",
      "14/14 [==============================] - 42s 3s/step - loss: 0.0113 - accuracy: 0.2857 - val_loss: 0.5060 - val_accuracy: 0.3125\n",
      "Epoch 3/5\n",
      "14/14 [==============================] - 44s 3s/step - loss: 0.0091 - accuracy: 0.2857 - val_loss: 0.4343 - val_accuracy: 0.3125\n",
      "Epoch 4/5\n",
      "14/14 [==============================] - 44s 3s/step - loss: 0.0074 - accuracy: 0.2857 - val_loss: 0.3845 - val_accuracy: 0.3125\n",
      "Epoch 5/5\n",
      "14/14 [==============================] - 42s 3s/step - loss: 0.0060 - accuracy: 0.2857 - val_loss: 0.3537 - val_accuracy: 0.3125\n"
     ]
    }
   ],
   "source": [
    "history = model.fit(\n",
    "    train_dataset.batch(BATCH_SIZE),\n",
    "    epochs=EPOCHS,\n",
    "    validation_data=val_dataset.batch(BATCH_SIZE),\n",
    "    class_weight=class_weights_dict\n",
    ")"
   ]
  },
  {
   "cell_type": "code",
   "execution_count": 25,
   "metadata": {},
   "outputs": [
    {
     "data": {
      "image/png": "[encoded data removed]",
      "text/plain": [
       "<Figure size 1200x600 with 2 Axes>"
      ]
     },
     "metadata": {},
     "output_type": "display_data"
    }
   ],
   "source": [
    "import tensorflow\n",
    "from matplotlib import pyplot as plt\n",
    "\n",
    "def plot_history(history):\n",
    "    \"\"\" This helper function takes the tensorflow.python.keras.callbacks.History\n",
    "    that is output from your `fit` method to plot the loss and accuracy of\n",
    "    the training and validation set.\n",
    "    \"\"\"\n",
    "    fig, axs = plt.subplots(1,2, figsize=(12,6))\n",
    "    axs[0].plot(history.history['accuracy'], label='training set')\n",
    "    axs[0].plot(history.history['val_accuracy'], label = 'validation set')\n",
    "    axs[0].set(xlabel = 'Epoch', ylabel='Accuracy', ylim=[0, 1])\n",
    "\n",
    "    axs[1].plot(history.history['loss'], label='training set')\n",
    "    axs[1].plot(history.history['val_loss'], label = 'validation set')\n",
    "    axs[1].set(xlabel = 'Epoch', ylabel='Loss', ylim=[0, 10])\n",
    "    \n",
    "    axs[0].legend(loc='lower right')\n",
    "    axs[1].legend(loc='lower right')\n",
    "    \n",
    "plot_history(history)"
   ]
  },
  {
   "cell_type": "code",
   "execution_count": 26,
   "metadata": {},
   "outputs": [
    {
     "name": "stdout",
     "output_type": "stream",
     "text": [
      "5/5 [==============================] - 6s 626ms/step - loss: 0.3673 - accuracy: 0.2250\n",
      "Loss: 0.36729320883750916\n",
      "Accuracy: 0.22499999403953552\n"
     ]
    }
   ],
   "source": [
    "loss, accuracy = model.evaluate(test_dataset.batch(BATCH_SIZE))\n",
    "print(f\"Loss: {loss}\")\n",
    "print(f\"Accuracy: {accuracy}\")"
   ]
  },
  {
   "cell_type": "code",
   "execution_count": 27,
   "metadata": {},
   "outputs": [
    {
     "data": {
      "text/html": [
       "<div>\n",
       "<style scoped>\n",
       "    .dataframe tbody tr th:only-of-type {\n",
       "        vertical-align: middle;\n",
       "    }\n",
       "\n",
       "    .dataframe tbody tr th {\n",
       "        vertical-align: top;\n",
       "    }\n",
       "\n",
       "    .dataframe thead th {\n",
       "        text-align: right;\n",
       "    }\n",
       "</style>\n",
       "<table border=\"1\" class=\"dataframe\">\n",
       "  <thead>\n",
       "    <tr style=\"text-align: right;\">\n",
       "      <th></th>\n",
       "      <th>title</th>\n",
       "      <th>genres</th>\n",
       "      <th>overview</th>\n",
       "      <th>tagline</th>\n",
       "      <th>clean_overview</th>\n",
       "    </tr>\n",
       "  </thead>\n",
       "  <tbody>\n",
       "    <tr>\n",
       "      <th>12825</th>\n",
       "      <td>Felon</td>\n",
       "      <td>[Action, Crime, Drama]</td>\n",
       "      <td>A family man convicted of killing an intruder ...</td>\n",
       "      <td>No rule. No hope. No way out.</td>\n",
       "      <td>famili man convict kill intrud must cope life ...</td>\n",
       "    </tr>\n",
       "  </tbody>\n",
       "</table>\n",
       "</div>"
      ],
      "text/plain": [
       "       title                  genres   \n",
       "12825  Felon  [Action, Crime, Drama]  \\\n",
       "\n",
       "                                                overview   \n",
       "12825  A family man convicted of killing an intruder ...  \\\n",
       "\n",
       "                             tagline   \n",
       "12825  No rule. No hope. No way out.  \\\n",
       "\n",
       "                                          clean_overview  \n",
       "12825  famili man convict kill intrud must cope life ...  "
      ]
     },
     "execution_count": 27,
     "metadata": {},
     "output_type": "execute_result"
    }
   ],
   "source": [
    "test_value"
   ]
  },
  {
   "cell_type": "code",
   "execution_count": 28,
   "metadata": {},
   "outputs": [
    {
     "data": {
      "text/plain": [
       "['Action', 'Crime', 'Drama']"
      ]
     },
     "execution_count": 28,
     "metadata": {},
     "output_type": "execute_result"
    }
   ],
   "source": [
    "test_value.clean_overview.values[0]\n",
    "test_value.genres.values[0]"
   ]
  },
  {
   "cell_type": "code",
   "execution_count": 29,
   "metadata": {},
   "outputs": [
    {
     "data": {
      "text/plain": [
       "('./saved_model/tokenizer_config.json',\n",
       " './saved_model/special_tokens_map.json',\n",
       " './saved_model/vocab.txt',\n",
       " './saved_model/added_tokens.json')"
      ]
     },
     "execution_count": 29,
     "metadata": {},
     "output_type": "execute_result"
    }
   ],
   "source": [
    "\n",
    "# Save the model and tokenizer to a directory\n",
    "model.save_pretrained('./saved_model/')\n",
    "tokenizer.save_pretrained('./saved_model/')"
   ]
  },
  {
   "cell_type": "code",
   "execution_count": 30,
   "metadata": {},
   "outputs": [],
   "source": [
    "# # Load the saved model and tokenizer from a directory\n",
    "# model = TFDistilBertForSequenceClassification.from_pretrained('./saved_model/')\n",
    "# tokenizer = DistilBertTokenizer.from_pretrained('./saved_model/')"
   ]
  },
  {
   "cell_type": "code",
   "execution_count": 32,
   "metadata": {},
   "outputs": [
    {
     "name": "stdout",
     "output_type": "stream",
     "text": [
      "1/1 [==============================] - 0s 73ms/step\n",
      "Drama\n",
      "famili man convict kill intrud must cope life afterward violent penal system ['Action', 'Crime', 'Drama']\n"
     ]
    }
   ],
   "source": [
    "# text = \"war crime \"\n",
    "text = test_value.clean_overview.values[0]\n",
    "text = clean_text(text)\n",
    "encodings = tokenizer([text], max_length=200, truncation=True, padding=True)\n",
    "ds = tf.data.Dataset.from_tensor_slices(dict(encodings))\n",
    "predictions = model.predict(ds)\n",
    "\n",
    "import numpy as np\n",
    "print(mapping[np.argmax(predictions[0])])\n",
    "print(text,test_value.genres.values[0] )\n"
   ]
  },
  {
   "cell_type": "code",
   "execution_count": 33,
   "metadata": {},
   "outputs": [
    {
     "data": {
      "text/plain": [
       "TFSequenceClassifierOutput(loss=None, logits=array([[-1.9075129, -1.6858882, -1.8146731, -1.4420028, -1.6964933,\n",
       "        -1.4952304,  1.6462157, -1.650525 , -1.5926456, -1.6162452,\n",
       "        -1.6069391, -1.165199 , -1.4018111, -1.469028 , -1.1478719,\n",
       "        -1.1657343, -1.7071366, -1.00069  , -1.4150828, -1.5595859]],\n",
       "      dtype=float32), hidden_states=None, attentions=None)"
      ]
     },
     "execution_count": 33,
     "metadata": {},
     "output_type": "execute_result"
    }
   ],
   "source": [
    "predictions"
   ]
  }
 ],
 "metadata": {
  "kernelspec": {
   "display_name": "venv",
   "language": "python",
   "name": "python3"
  },
  "language_info": {
   "codemirror_mode": {
    "name": "ipython",
    "version": 3
   },
   "file_extension": ".py",
   "mimetype": "text/x-python",
   "name": "python",
   "nbconvert_exporter": "python",
   "pygments_lexer": "ipython3",
   "version": "3.11.3"
  },
  "orig_nbformat": 4,
  "vscode": {
   "interpreter": {
    "hash": "e38ac0ab6c0179167dbc9cb1ba35458952d288fc65131deba00b07b1de9861b1"
   }
  }
 },
 "nbformat": 4,
 "nbformat_minor": 2
}
